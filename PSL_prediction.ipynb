{
 "cells": [
  {
   "cell_type": "code",
   "execution_count": 1,
   "metadata": {},
   "outputs": [],
   "source": [
    "import joblib\n",
    "import pickle\n",
    "import numpy as np\n",
    "import pandas as pd\n",
    "import seaborn as sns\n",
    "from datetime import datetime\n",
    "from sklearn.linear_model import Ridge\n",
    "from sklearn.preprocessing import StandardScaler,MinMaxScaler\n",
    "from sklearn.model_selection import GridSearchCV\n",
    "from sklearn.metrics import r2_score,mean_absolute_error,mean_squared_error"
   ]
  },
  {
   "cell_type": "code",
   "execution_count": 2,
   "metadata": {},
   "outputs": [
    {
     "data": {
      "text/html": [
       "<div>\n",
       "<style scoped>\n",
       "    .dataframe tbody tr th:only-of-type {\n",
       "        vertical-align: middle;\n",
       "    }\n",
       "\n",
       "    .dataframe tbody tr th {\n",
       "        vertical-align: top;\n",
       "    }\n",
       "\n",
       "    .dataframe thead th {\n",
       "        text-align: right;\n",
       "    }\n",
       "</style>\n",
       "<table border=\"1\" class=\"dataframe\">\n",
       "  <thead>\n",
       "    <tr style=\"text-align: right;\">\n",
       "      <th></th>\n",
       "      <th>date</th>\n",
       "      <th>venue</th>\n",
       "      <th>bat_team</th>\n",
       "      <th>bowl_team</th>\n",
       "      <th>ball</th>\n",
       "      <th>overs</th>\n",
       "      <th>runs</th>\n",
       "      <th>runs_last_5</th>\n",
       "      <th>wickets_last_5</th>\n",
       "      <th>wickets</th>\n",
       "      <th>total</th>\n",
       "    </tr>\n",
       "  </thead>\n",
       "  <tbody>\n",
       "    <tr>\n",
       "      <th>0</th>\n",
       "      <td>2016-02-04</td>\n",
       "      <td>Dubai International Cricket Stadium</td>\n",
       "      <td>Islamabad United</td>\n",
       "      <td>Quetta Gladiators</td>\n",
       "      <td>1</td>\n",
       "      <td>0.1</td>\n",
       "      <td>0</td>\n",
       "      <td>0</td>\n",
       "      <td>0</td>\n",
       "      <td>0</td>\n",
       "      <td>128</td>\n",
       "    </tr>\n",
       "    <tr>\n",
       "      <th>1</th>\n",
       "      <td>2016-02-04</td>\n",
       "      <td>Dubai International Cricket Stadium</td>\n",
       "      <td>Islamabad United</td>\n",
       "      <td>Quetta Gladiators</td>\n",
       "      <td>2</td>\n",
       "      <td>0.2</td>\n",
       "      <td>0</td>\n",
       "      <td>0</td>\n",
       "      <td>0</td>\n",
       "      <td>0</td>\n",
       "      <td>128</td>\n",
       "    </tr>\n",
       "    <tr>\n",
       "      <th>2</th>\n",
       "      <td>2016-02-04</td>\n",
       "      <td>Dubai International Cricket Stadium</td>\n",
       "      <td>Islamabad United</td>\n",
       "      <td>Quetta Gladiators</td>\n",
       "      <td>3</td>\n",
       "      <td>0.3</td>\n",
       "      <td>0</td>\n",
       "      <td>0</td>\n",
       "      <td>0</td>\n",
       "      <td>0</td>\n",
       "      <td>128</td>\n",
       "    </tr>\n",
       "    <tr>\n",
       "      <th>3</th>\n",
       "      <td>2016-02-04</td>\n",
       "      <td>Dubai International Cricket Stadium</td>\n",
       "      <td>Islamabad United</td>\n",
       "      <td>Quetta Gladiators</td>\n",
       "      <td>4</td>\n",
       "      <td>0.4</td>\n",
       "      <td>0</td>\n",
       "      <td>0</td>\n",
       "      <td>0</td>\n",
       "      <td>0</td>\n",
       "      <td>128</td>\n",
       "    </tr>\n",
       "    <tr>\n",
       "      <th>4</th>\n",
       "      <td>2016-02-04</td>\n",
       "      <td>Dubai International Cricket Stadium</td>\n",
       "      <td>Islamabad United</td>\n",
       "      <td>Quetta Gladiators</td>\n",
       "      <td>5</td>\n",
       "      <td>0.5</td>\n",
       "      <td>0</td>\n",
       "      <td>0</td>\n",
       "      <td>0</td>\n",
       "      <td>0</td>\n",
       "      <td>128</td>\n",
       "    </tr>\n",
       "  </tbody>\n",
       "</table>\n",
       "</div>"
      ],
      "text/plain": [
       "         date                                venue          bat_team  \\\n",
       "0  2016-02-04  Dubai International Cricket Stadium  Islamabad United   \n",
       "1  2016-02-04  Dubai International Cricket Stadium  Islamabad United   \n",
       "2  2016-02-04  Dubai International Cricket Stadium  Islamabad United   \n",
       "3  2016-02-04  Dubai International Cricket Stadium  Islamabad United   \n",
       "4  2016-02-04  Dubai International Cricket Stadium  Islamabad United   \n",
       "\n",
       "           bowl_team  ball  overs  runs  runs_last_5  wickets_last_5  wickets  \\\n",
       "0  Quetta Gladiators     1    0.1     0            0               0        0   \n",
       "1  Quetta Gladiators     2    0.2     0            0               0        0   \n",
       "2  Quetta Gladiators     3    0.3     0            0               0        0   \n",
       "3  Quetta Gladiators     4    0.4     0            0               0        0   \n",
       "4  Quetta Gladiators     5    0.5     0            0               0        0   \n",
       "\n",
       "   total  \n",
       "0    128  \n",
       "1    128  \n",
       "2    128  \n",
       "3    128  \n",
       "4    128  "
      ]
     },
     "execution_count": 2,
     "metadata": {},
     "output_type": "execute_result"
    }
   ],
   "source": [
    "df = pd.read_csv('psl.csv')\n",
    "df.head()"
   ]
  },
  {
   "cell_type": "code",
   "execution_count": 3,
   "metadata": {},
   "outputs": [],
   "source": [
    "df['date'] = df['date'].apply(lambda x: datetime.strptime(x,'%Y-%m-%d'))\n",
    "\n",
    "df = df[df['ball']<=6]\n",
    "df = df[df['overs']>=5.0]\n",
    "cols_to_drop = ['ball']\n",
    "df.drop(cols_to_drop,axis=1,inplace=True)\n",
    "\n",
    "\n",
    "\n",
    "def f(x):\n",
    "    if x=='Dubai International Cricket Stadium':\n",
    "        return 'Dubai International Cricket Stadium, Dubai'\n",
    "    elif x=='Gaddafi Stadium':\n",
    "        return 'Gaddafi Stadium, Lahore'\n",
    "    elif x=='Multan Cricket Stadium':\n",
    "        return 'Multan Cricket Stadium, Multan'\n",
    "    elif x=='National Stadium':\n",
    "        return 'National Stadium, Karachi'\n",
    "    elif x=='Rawalpindi Cricket Stadium':\n",
    "        return 'Rawalpindi Cricket Stadium, Rawalpindi'\n",
    "    elif x=='Sharjah Cricket Stadium':\n",
    "        return 'Sharjah Cricket Stadium, Sharjah'\n",
    "    elif x=='Sheikh Zayed Stadium':\n",
    "        return 'Sheikh Zayed Stadium, Abu Dhabi'\n",
    "    else:\n",
    "        return x\n",
    "    \n",
    "df['venue'] = df['venue'].apply(f)\n",
    "\n",
    "df_new = pd.get_dummies(data=df,columns=['venue','bat_team','bowl_team'])\n",
    "\n",
    "\n",
    "df_new = df_new[['date', 'venue_Dubai International Cricket Stadium, Dubai',\n",
    "'venue_Gaddafi Stadium, Lahore',\n",
    "'venue_Multan Cricket Stadium, Multan',\n",
    "'venue_National Stadium, Karachi',\n",
    "'venue_Rawalpindi Cricket Stadium, Rawalpindi',\n",
    "'venue_Sharjah Cricket Stadium, Sharjah',\n",
    "'venue_Sheikh Zayed Stadium, Abu Dhabi',\n",
    "'bat_team_Islamabad United',\n",
    "'bat_team_Karachi Kings',\n",
    "'bat_team_Lahore Qalandars',\n",
    "'bat_team_Multan Sultans',\n",
    "'bat_team_Peshawar Zalmi',\n",
    "'bat_team_Quetta Gladiators',\n",
    "'bowl_team_Islamabad United',\n",
    "'bowl_team_Karachi Kings',\n",
    "'bowl_team_Lahore Qalandars',\n",
    "'bowl_team_Multan Sultans',\n",
    "'bowl_team_Peshawar Zalmi',\n",
    "'bowl_team_Quetta Gladiators', 'runs', 'wickets', 'overs', 'runs_last_5', 'wickets_last_5',\n",
    "       'total']]\n",
    "\n",
    "\n",
    "df_new.reset_index(inplace=True)\n",
    "df_new.drop('index',inplace=True,axis=1)"
   ]
  },
  {
   "cell_type": "code",
   "execution_count": 4,
   "metadata": {},
   "outputs": [],
   "source": [
    "scaler = StandardScaler()\n",
    "scaled_cols = scaler.fit_transform(df_new[['runs', 'wickets', 'overs', 'runs_last_5', 'wickets_last_5']])\n",
    "pickle.dump(scaler, open('scaler.pkl','wb'))\n",
    "\n",
    "scaled_cols = pd.DataFrame(scaled_cols,columns=['runs', 'wickets', 'overs', 'runs_last_5', 'wickets_last_5'])\n",
    "df_new.drop(['runs', 'wickets', 'overs', 'runs_last_5', 'wickets_last_5'],axis=1,inplace=True)\n",
    "df_new = pd.concat([df_new,scaled_cols],axis=1)\n",
    "\n",
    "\n",
    "X_train = df_new.drop('total',axis=1)[df_new['date'].dt.year<=2018]\n",
    "X_test = df_new.drop('total',axis=1)[df_new['date'].dt.year>=2019]\n",
    "\n",
    "X_train.drop('date',inplace=True,axis=1)\n",
    "X_test.drop('date',inplace=True,axis=1)\n",
    "\n",
    "\n",
    "y_train = df_new[df_new['date'].dt.year<=2018]['total'].values\n",
    "y_test = df_new[df_new['date'].dt.year>=2019]['total'].values"
   ]
  },
  {
   "cell_type": "code",
   "execution_count": 5,
   "metadata": {},
   "outputs": [
    {
     "name": "stderr",
     "output_type": "stream",
     "text": [
      "C:\\Users\\ADMIN\\anaconda3\\lib\\site-packages\\sklearn\\linear_model\\_ridge.py:157: LinAlgWarning: Ill-conditioned matrix (rcond=5.04207e-20): result may not be accurate.\n",
      "  return linalg.solve(A, Xy, sym_pos=True, overwrite_a=True).T\n"
     ]
    },
    {
     "data": {
      "text/plain": [
       "GridSearchCV(cv=10, estimator=Ridge(),\n",
       "             param_grid={'alpha': [1e-15, 1e-10, 1e-08, 0.001, 0.01, 5, 10, 20,\n",
       "                                   30, 35, 40]},\n",
       "             scoring='neg_mean_squared_error')"
      ]
     },
     "execution_count": 5,
     "metadata": {},
     "output_type": "execute_result"
    }
   ],
   "source": [
    "ridge = Ridge()\n",
    "parameters={'alpha':[1e-15,1e-10, 1e-08, 0.001, 0.01, 5, 10, 20, 30, 35, 40]}\n",
    "ridge_regressor = GridSearchCV(ridge,parameters,cv=10,scoring='neg_mean_squared_error')\n",
    "ridge_regressor.fit(X_train,y_train)"
   ]
  },
  {
   "cell_type": "code",
   "execution_count": 6,
   "metadata": {},
   "outputs": [
    {
     "name": "stdout",
     "output_type": "stream",
     "text": [
      "{'alpha': 40}\n",
      "-394.81981052079794\n",
      "MAE: 16.649024354192065\n",
      "MSE: 455.8945557164235\n",
      "RMSE: 21.35168742082048\n",
      "r2 score of ridge : 0.5102329923218212\n"
     ]
    }
   ],
   "source": [
    "print(ridge_regressor.best_params_)\n",
    "print(ridge_regressor.best_score_)\n",
    "\n",
    "prediction_r = ridge_regressor.predict(X_test)\n",
    "print('MAE:', mean_absolute_error(y_test, prediction_r))\n",
    "print('MSE:', mean_squared_error(y_test, prediction_r))\n",
    "print('RMSE:', np.sqrt(mean_squared_error(y_test, prediction_r)))\n",
    "print(f'r2 score of ridge : {r2_score(y_test,prediction_r)}')"
   ]
  },
  {
   "cell_type": "code",
   "execution_count": 7,
   "metadata": {},
   "outputs": [
    {
     "name": "stderr",
     "output_type": "stream",
     "text": [
      "C:\\Users\\ADMIN\\anaconda3\\lib\\site-packages\\seaborn\\distributions.py:2619: FutureWarning: `distplot` is a deprecated function and will be removed in a future version. Please adapt your code to use either `displot` (a figure-level function with similar flexibility) or `histplot` (an axes-level function for histograms).\n",
      "  warnings.warn(msg, FutureWarning)\n"
     ]
    },
    {
     "data": {
      "text/plain": [
       "<AxesSubplot:ylabel='Density'>"
      ]
     },
     "execution_count": 7,
     "metadata": {},
     "output_type": "execute_result"
    },
    {
     "data": {
      "image/png": "[encoded data removed]",
      "text/plain": [
       "<Figure size 432x288 with 1 Axes>"
      ]
     },
     "metadata": {
      "needs_background": "light"
     },
     "output_type": "display_data"
    }
   ],
   "source": [
    "sns.distplot(y_test-prediction_r)"
   ]
  },
  {
   "cell_type": "code",
   "execution_count": 8,
   "metadata": {},
   "outputs": [
    {
     "data": {
      "text/plain": [
       "['pslmodel_ridge.sav']"
      ]
     },
     "execution_count": 8,
     "metadata": {},
     "output_type": "execute_result"
    }
   ],
   "source": [
    "joblib.dump(ridge_regressor,'pslmodel_ridge.sav')"
   ]
  }
 ],
 "metadata": {
  "kernelspec": {
   "display_name": "Python 3 (ipykernel)",
   "language": "python",
   "name": "python3"
  },
  "language_info": {
   "codemirror_mode": {
    "name": "ipython",
    "version": 3
   },
   "file_extension": ".py",
   "mimetype": "text/x-python",
   "name": "python",
   "nbconvert_exporter": "python",
   "pygments_lexer": "ipython3",
   "version": "3.9.12"
  }
 },
 "nbformat": 4,
 "nbformat_minor": 4
}
